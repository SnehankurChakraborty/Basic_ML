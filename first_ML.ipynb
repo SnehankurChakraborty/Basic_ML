{
 "cells": [
  {
   "cell_type": "code",
   "id": "e67ebe6e-c6bf-4bcc-978b-f747df58b13f",
   "metadata": {
    "ExecuteTime": {
     "end_time": "2025-07-12T10:01:06.626242Z",
     "start_time": "2025-07-12T10:01:06.622512Z"
    }
   },
   "source": [
    "import pandas as pd\n",
    "from sklearn.tree import DecisionTreeClassifier\n",
    "from sklearn.model_selection import train_test_split\n",
    "from sklearn.metrics import accuracy_score\n",
    "from sklearn import tree"
   ],
   "outputs": [],
   "execution_count": 5
  },
  {
   "cell_type": "code",
   "id": "b4406fc9-696b-4bb2-a1eb-979a1f9413d3",
   "metadata": {
    "ExecuteTime": {
     "end_time": "2025-07-12T10:01:06.651497Z",
     "start_time": "2025-07-12T10:01:06.645978Z"
    }
   },
   "source": [
    "data = pd.read_csv('music.csv')"
   ],
   "outputs": [],
   "execution_count": 6
  },
  {
   "cell_type": "code",
   "id": "b3abbbc4-c2e4-4458-b221-96120046c513",
   "metadata": {
    "ExecuteTime": {
     "end_time": "2025-07-12T10:01:06.674598Z",
     "start_time": "2025-07-12T10:01:06.670499Z"
    }
   },
   "source": [
    "input_set = data.drop(columns=['genre'])\n",
    "output_set = data['genre']\n",
    "x_train, x_test, y_train, y_test = train_test_split(input_set, output_set, test_size=0.2)"
   ],
   "outputs": [],
   "execution_count": 7
  },
  {
   "cell_type": "code",
   "id": "62595c27-9598-46b2-b395-97913e6821b4",
   "metadata": {
    "ExecuteTime": {
     "end_time": "2025-07-12T10:01:06.690985Z",
     "start_time": "2025-07-12T10:01:06.685313Z"
    }
   },
   "source": [
    "model = DecisionTreeClassifier()\n",
    "model.fit(x_train, y_train)\n",
    "predictions = model.predict(x_test)\n",
    "score = accuracy_score(y_test, predictions)"
   ],
   "outputs": [],
   "execution_count": 8
  },
  {
   "cell_type": "code",
   "id": "4492a537-4ec9-4d48-92c1-82ec57c354ea",
   "metadata": {
    "ExecuteTime": {
     "end_time": "2025-07-12T10:01:06.708159Z",
     "start_time": "2025-07-12T10:01:06.704236Z"
    }
   },
   "source": [
    "score"
   ],
   "outputs": [
    {
     "data": {
      "text/plain": [
       "1.0"
      ]
     },
     "execution_count": 9,
     "metadata": {},
     "output_type": "execute_result"
    }
   ],
   "execution_count": 9
  },
  {
   "cell_type": "code",
   "id": "5d36dbaf-709b-49d3-b9e3-3f22f9e344b8",
   "metadata": {
    "ExecuteTime": {
     "end_time": "2025-07-12T10:01:06.741242Z",
     "start_time": "2025-07-12T10:01:06.736884Z"
    }
   },
   "source": [
    "tree.export_graphviz(model, \n",
    "                     out_file = 'music_recomender.dot', \n",
    "                     feature_names=['age', 'gender'], \n",
    "                     class_names=sorted(output_set.unique()),\n",
    "                     label='all',\n",
    "                     rounded=True,\n",
    "                     filled=True)"
   ],
   "outputs": [],
   "execution_count": 10
  }
 ],
 "metadata": {
  "kernelspec": {
   "display_name": "Python 3 (ipykernel)",
   "language": "python",
   "name": "python3"
  },
  "language_info": {
   "codemirror_mode": {
    "name": "ipython",
    "version": 3
   },
   "file_extension": ".py",
   "mimetype": "text/x-python",
   "name": "python",
   "nbconvert_exporter": "python",
   "pygments_lexer": "ipython3",
   "version": "3.13.5"
  }
 },
 "nbformat": 4,
 "nbformat_minor": 5
}
